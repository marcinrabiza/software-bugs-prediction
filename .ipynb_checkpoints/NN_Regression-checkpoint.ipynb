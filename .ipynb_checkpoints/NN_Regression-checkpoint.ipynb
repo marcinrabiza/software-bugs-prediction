{
 "cells": [
  {
   "cell_type": "code",
   "execution_count": 25,
   "metadata": {},
   "outputs": [],
   "source": [
    "from __future__ import absolute_import, division, print_function, unicode_literals\n",
    "\n",
    "import pathlib\n",
    "\n",
    "import matplotlib.pyplot as plt\n",
    "import numpy as np\n",
    "import pandas as pd\n",
    "import seaborn as sns"
   ]
  },
  {
   "cell_type": "code",
   "execution_count": 41,
   "metadata": {},
   "outputs": [
    {
     "name": "stdout",
     "output_type": "stream",
     "text": [
      "1.15.0\n"
     ]
    }
   ],
   "source": [
    "import tensorflow as tf\n",
    "\n",
    "from tensorflow import keras\n",
    "from tensorflow.keras import layers\n",
    "from sklearn.preprocessing import StandardScaler\n",
    "\n",
    "print(tf.__version__)"
   ]
  },
  {
   "cell_type": "code",
   "execution_count": 27,
   "metadata": {},
   "outputs": [
    {
     "data": {
      "text/html": [
       "<div>\n",
       "<style scoped>\n",
       "    .dataframe tbody tr th:only-of-type {\n",
       "        vertical-align: middle;\n",
       "    }\n",
       "\n",
       "    .dataframe tbody tr th {\n",
       "        vertical-align: top;\n",
       "    }\n",
       "\n",
       "    .dataframe thead th {\n",
       "        text-align: right;\n",
       "    }\n",
       "</style>\n",
       "<table border=\"1\" class=\"dataframe\">\n",
       "  <thead>\n",
       "    <tr style=\"text-align: right;\">\n",
       "      <th></th>\n",
       "      <th>CBO</th>\n",
       "      <th>DIT</th>\n",
       "      <th>FanIn</th>\n",
       "      <th>FanOut</th>\n",
       "      <th>LCOM</th>\n",
       "      <th>NOC</th>\n",
       "      <th>RFC</th>\n",
       "      <th>WMC</th>\n",
       "      <th>LOC</th>\n",
       "      <th>Attributes</th>\n",
       "      <th>AttributesInherited</th>\n",
       "      <th>Methods</th>\n",
       "      <th>MethodsInherited</th>\n",
       "      <th>Bugs</th>\n",
       "    </tr>\n",
       "  </thead>\n",
       "  <tbody>\n",
       "    <tr>\n",
       "      <td>0</td>\n",
       "      <td>9</td>\n",
       "      <td>2</td>\n",
       "      <td>1</td>\n",
       "      <td>9</td>\n",
       "      <td>15</td>\n",
       "      <td>0</td>\n",
       "      <td>34</td>\n",
       "      <td>20</td>\n",
       "      <td>122</td>\n",
       "      <td>1</td>\n",
       "      <td>8</td>\n",
       "      <td>6</td>\n",
       "      <td>19</td>\n",
       "      <td>0</td>\n",
       "    </tr>\n",
       "    <tr>\n",
       "      <td>1</td>\n",
       "      <td>1</td>\n",
       "      <td>1</td>\n",
       "      <td>1</td>\n",
       "      <td>0</td>\n",
       "      <td>0</td>\n",
       "      <td>0</td>\n",
       "      <td>1</td>\n",
       "      <td>1</td>\n",
       "      <td>4</td>\n",
       "      <td>2</td>\n",
       "      <td>0</td>\n",
       "      <td>1</td>\n",
       "      <td>8</td>\n",
       "      <td>0</td>\n",
       "    </tr>\n",
       "    <tr>\n",
       "      <td>2</td>\n",
       "      <td>114</td>\n",
       "      <td>1</td>\n",
       "      <td>102</td>\n",
       "      <td>18</td>\n",
       "      <td>190</td>\n",
       "      <td>6</td>\n",
       "      <td>156</td>\n",
       "      <td>176</td>\n",
       "      <td>484</td>\n",
       "      <td>131</td>\n",
       "      <td>249</td>\n",
       "      <td>20</td>\n",
       "      <td>8</td>\n",
       "      <td>1</td>\n",
       "    </tr>\n",
       "    <tr>\n",
       "      <td>3</td>\n",
       "      <td>5</td>\n",
       "      <td>6</td>\n",
       "      <td>1</td>\n",
       "      <td>4</td>\n",
       "      <td>10</td>\n",
       "      <td>0</td>\n",
       "      <td>18</td>\n",
       "      <td>12</td>\n",
       "      <td>33</td>\n",
       "      <td>0</td>\n",
       "      <td>61</td>\n",
       "      <td>5</td>\n",
       "      <td>207</td>\n",
       "      <td>0</td>\n",
       "    </tr>\n",
       "    <tr>\n",
       "      <td>4</td>\n",
       "      <td>23</td>\n",
       "      <td>2</td>\n",
       "      <td>1</td>\n",
       "      <td>22</td>\n",
       "      <td>820</td>\n",
       "      <td>0</td>\n",
       "      <td>174</td>\n",
       "      <td>115</td>\n",
       "      <td>673</td>\n",
       "      <td>7</td>\n",
       "      <td>416</td>\n",
       "      <td>41</td>\n",
       "      <td>8</td>\n",
       "      <td>0</td>\n",
       "    </tr>\n",
       "  </tbody>\n",
       "</table>\n",
       "</div>"
      ],
      "text/plain": [
       "   CBO  DIT  FanIn   FanOut   LCOM  NOC  RFC  WMC  LOC  Attributes   \\\n",
       "0    9    2       1        9    15    0   34   20  122            1   \n",
       "1    1    1       1        0     0    0    1    1    4            2   \n",
       "2  114    1     102       18   190    6  156  176  484          131   \n",
       "3    5    6       1        4    10    0   18   12   33            0   \n",
       "4   23    2       1       22   820    0  174  115  673            7   \n",
       "\n",
       "   AttributesInherited   Methods   MethodsInherited   Bugs   \n",
       "0                     8         6                 19      0  \n",
       "1                     0         1                  8      0  \n",
       "2                   249        20                  8      1  \n",
       "3                    61         5                207      0  \n",
       "4                   416        41                  8      0  "
      ]
     },
     "execution_count": 27,
     "metadata": {},
     "output_type": "execute_result"
    }
   ],
   "source": [
    "raw_dataset = pd.read_csv('bugs.csv', sep=';', index_col=None,\n",
    "                      na_values = \"?\", comment='\\t', skipinitialspace=True)\n",
    "\n",
    "dataset = raw_dataset.copy()\n",
    "dataset.head()"
   ]
  },
  {
   "cell_type": "code",
   "execution_count": 28,
   "metadata": {},
   "outputs": [],
   "source": [
    "train_dataset = dataset.sample(frac=0.8,random_state=0)\n",
    "test_dataset = dataset.drop(train_dataset.index)"
   ]
  },
  {
   "cell_type": "code",
   "execution_count": 30,
   "metadata": {
    "scrolled": false
   },
   "outputs": [
    {
     "data": {
      "text/html": [
       "<div>\n",
       "<style scoped>\n",
       "    .dataframe tbody tr th:only-of-type {\n",
       "        vertical-align: middle;\n",
       "    }\n",
       "\n",
       "    .dataframe tbody tr th {\n",
       "        vertical-align: top;\n",
       "    }\n",
       "\n",
       "    .dataframe thead th {\n",
       "        text-align: right;\n",
       "    }\n",
       "</style>\n",
       "<table border=\"1\" class=\"dataframe\">\n",
       "  <thead>\n",
       "    <tr style=\"text-align: right;\">\n",
       "      <th></th>\n",
       "      <th>count</th>\n",
       "      <th>mean</th>\n",
       "      <th>std</th>\n",
       "      <th>min</th>\n",
       "      <th>25%</th>\n",
       "      <th>50%</th>\n",
       "      <th>75%</th>\n",
       "      <th>max</th>\n",
       "    </tr>\n",
       "  </thead>\n",
       "  <tbody>\n",
       "    <tr>\n",
       "      <td>CBO</td>\n",
       "      <td>798.0</td>\n",
       "      <td>12.013784</td>\n",
       "      <td>17.309379</td>\n",
       "      <td>0.0</td>\n",
       "      <td>3.00</td>\n",
       "      <td>6.0</td>\n",
       "      <td>14.00</td>\n",
       "      <td>156.0</td>\n",
       "    </tr>\n",
       "    <tr>\n",
       "      <td>DIT</td>\n",
       "      <td>798.0</td>\n",
       "      <td>2.714286</td>\n",
       "      <td>1.722556</td>\n",
       "      <td>1.0</td>\n",
       "      <td>1.00</td>\n",
       "      <td>2.0</td>\n",
       "      <td>4.00</td>\n",
       "      <td>8.0</td>\n",
       "    </tr>\n",
       "    <tr>\n",
       "      <td>FanIn</td>\n",
       "      <td>798.0</td>\n",
       "      <td>4.988722</td>\n",
       "      <td>12.648262</td>\n",
       "      <td>0.0</td>\n",
       "      <td>1.00</td>\n",
       "      <td>2.0</td>\n",
       "      <td>4.00</td>\n",
       "      <td>135.0</td>\n",
       "    </tr>\n",
       "    <tr>\n",
       "      <td>FanOut</td>\n",
       "      <td>798.0</td>\n",
       "      <td>7.546366</td>\n",
       "      <td>10.055666</td>\n",
       "      <td>0.0</td>\n",
       "      <td>2.00</td>\n",
       "      <td>4.0</td>\n",
       "      <td>10.00</td>\n",
       "      <td>93.0</td>\n",
       "    </tr>\n",
       "    <tr>\n",
       "      <td>LCOM</td>\n",
       "      <td>798.0</td>\n",
       "      <td>349.922306</td>\n",
       "      <td>3199.946664</td>\n",
       "      <td>0.0</td>\n",
       "      <td>6.00</td>\n",
       "      <td>28.0</td>\n",
       "      <td>91.00</td>\n",
       "      <td>81003.0</td>\n",
       "    </tr>\n",
       "    <tr>\n",
       "      <td>NOC</td>\n",
       "      <td>798.0</td>\n",
       "      <td>0.713033</td>\n",
       "      <td>2.223769</td>\n",
       "      <td>0.0</td>\n",
       "      <td>0.00</td>\n",
       "      <td>0.0</td>\n",
       "      <td>0.00</td>\n",
       "      <td>26.0</td>\n",
       "    </tr>\n",
       "    <tr>\n",
       "      <td>RFC</td>\n",
       "      <td>798.0</td>\n",
       "      <td>77.944862</td>\n",
       "      <td>187.589990</td>\n",
       "      <td>0.0</td>\n",
       "      <td>11.25</td>\n",
       "      <td>30.0</td>\n",
       "      <td>70.00</td>\n",
       "      <td>2603.0</td>\n",
       "    </tr>\n",
       "    <tr>\n",
       "      <td>WMC</td>\n",
       "      <td>798.0</td>\n",
       "      <td>58.284461</td>\n",
       "      <td>135.920499</td>\n",
       "      <td>0.0</td>\n",
       "      <td>8.00</td>\n",
       "      <td>21.0</td>\n",
       "      <td>50.00</td>\n",
       "      <td>1680.0</td>\n",
       "    </tr>\n",
       "    <tr>\n",
       "      <td>LOC</td>\n",
       "      <td>798.0</td>\n",
       "      <td>226.413534</td>\n",
       "      <td>563.461556</td>\n",
       "      <td>0.0</td>\n",
       "      <td>28.00</td>\n",
       "      <td>75.5</td>\n",
       "      <td>194.50</td>\n",
       "      <td>7341.0</td>\n",
       "    </tr>\n",
       "    <tr>\n",
       "      <td>Attributes</td>\n",
       "      <td>798.0</td>\n",
       "      <td>7.027569</td>\n",
       "      <td>18.518579</td>\n",
       "      <td>0.0</td>\n",
       "      <td>1.00</td>\n",
       "      <td>3.0</td>\n",
       "      <td>7.00</td>\n",
       "      <td>276.0</td>\n",
       "    </tr>\n",
       "    <tr>\n",
       "      <td>AttributesInherited</td>\n",
       "      <td>798.0</td>\n",
       "      <td>101.818296</td>\n",
       "      <td>148.714267</td>\n",
       "      <td>0.0</td>\n",
       "      <td>0.00</td>\n",
       "      <td>19.0</td>\n",
       "      <td>95.75</td>\n",
       "      <td>563.0</td>\n",
       "    </tr>\n",
       "    <tr>\n",
       "      <td>Methods</td>\n",
       "      <td>798.0</td>\n",
       "      <td>13.367168</td>\n",
       "      <td>23.134418</td>\n",
       "      <td>0.0</td>\n",
       "      <td>4.00</td>\n",
       "      <td>8.0</td>\n",
       "      <td>14.00</td>\n",
       "      <td>403.0</td>\n",
       "    </tr>\n",
       "    <tr>\n",
       "      <td>MethodsInherited</td>\n",
       "      <td>798.0</td>\n",
       "      <td>48.588972</td>\n",
       "      <td>50.242264</td>\n",
       "      <td>0.0</td>\n",
       "      <td>11.00</td>\n",
       "      <td>33.0</td>\n",
       "      <td>73.00</td>\n",
       "      <td>319.0</td>\n",
       "    </tr>\n",
       "  </tbody>\n",
       "</table>\n",
       "</div>"
      ],
      "text/plain": [
       "                      count        mean          std  min    25%   50%  \\\n",
       "CBO                   798.0   12.013784    17.309379  0.0   3.00   6.0   \n",
       "DIT                   798.0    2.714286     1.722556  1.0   1.00   2.0   \n",
       "FanIn                 798.0    4.988722    12.648262  0.0   1.00   2.0   \n",
       "FanOut                798.0    7.546366    10.055666  0.0   2.00   4.0   \n",
       "LCOM                  798.0  349.922306  3199.946664  0.0   6.00  28.0   \n",
       "NOC                   798.0    0.713033     2.223769  0.0   0.00   0.0   \n",
       "RFC                   798.0   77.944862   187.589990  0.0  11.25  30.0   \n",
       "WMC                   798.0   58.284461   135.920499  0.0   8.00  21.0   \n",
       "LOC                   798.0  226.413534   563.461556  0.0  28.00  75.5   \n",
       "Attributes            798.0    7.027569    18.518579  0.0   1.00   3.0   \n",
       "AttributesInherited   798.0  101.818296   148.714267  0.0   0.00  19.0   \n",
       "Methods               798.0   13.367168    23.134418  0.0   4.00   8.0   \n",
       "MethodsInherited      798.0   48.588972    50.242264  0.0  11.00  33.0   \n",
       "\n",
       "                         75%      max  \n",
       "CBO                    14.00    156.0  \n",
       "DIT                     4.00      8.0  \n",
       "FanIn                   4.00    135.0  \n",
       "FanOut                 10.00     93.0  \n",
       "LCOM                   91.00  81003.0  \n",
       "NOC                     0.00     26.0  \n",
       "RFC                    70.00   2603.0  \n",
       "WMC                    50.00   1680.0  \n",
       "LOC                   194.50   7341.0  \n",
       "Attributes              7.00    276.0  \n",
       "AttributesInherited    95.75    563.0  \n",
       "Methods                14.00    403.0  \n",
       "MethodsInherited       73.00    319.0  "
      ]
     },
     "execution_count": 30,
     "metadata": {},
     "output_type": "execute_result"
    }
   ],
   "source": [
    "train_stats = train_dataset.describe()\n",
    "train_stats.pop(\"Bugs \")\n",
    "train_stats = train_stats.transpose()\n",
    "train_stats"
   ]
  },
  {
   "cell_type": "code",
   "execution_count": 31,
   "metadata": {},
   "outputs": [],
   "source": [
    "train_labels = train_dataset.pop('Bugs ')\n",
    "test_labels = test_dataset.pop('Bugs ')"
   ]
  },
  {
   "cell_type": "code",
   "execution_count": 32,
   "metadata": {},
   "outputs": [],
   "source": [
    "def norm(x):\n",
    "  return (x - train_stats['mean']) / train_stats['std']\n",
    "normed_train_data = norm(train_dataset)\n",
    "normed_test_data = norm(test_dataset)"
   ]
  },
  {
   "cell_type": "code",
   "execution_count": 33,
   "metadata": {},
   "outputs": [],
   "source": [
    "def build_model():\n",
    "  model = keras.Sequential([\n",
    "    layers.Dense(64, activation='relu', input_shape=[len(train_dataset.keys())]),\n",
    "    layers.Dense(64, activation='relu'),\n",
    "    layers.Dense(1)\n",
    "  ])\n",
    "\n",
    "  optimizer = tf.keras.optimizers.RMSprop(0.001)\n",
    "\n",
    "  model.compile(loss='mse',\n",
    "                optimizer=optimizer,\n",
    "                metrics=['mae', 'mse'])\n",
    "  return model\n",
    "\n"
   ]
  },
  {
   "cell_type": "code",
   "execution_count": 34,
   "metadata": {},
   "outputs": [
    {
     "name": "stdout",
     "output_type": "stream",
     "text": [
      "Model: \"sequential_3\"\n",
      "_________________________________________________________________\n",
      "Layer (type)                 Output Shape              Param #   \n",
      "=================================================================\n",
      "dense_9 (Dense)              (None, 64)                896       \n",
      "_________________________________________________________________\n",
      "dense_10 (Dense)             (None, 64)                4160      \n",
      "_________________________________________________________________\n",
      "dense_11 (Dense)             (None, 1)                 65        \n",
      "=================================================================\n",
      "Total params: 5,121\n",
      "Trainable params: 5,121\n",
      "Non-trainable params: 0\n",
      "_________________________________________________________________\n"
     ]
    }
   ],
   "source": [
    "model = build_model()\n",
    "model.summary()\n"
   ]
  },
  {
   "cell_type": "code",
   "execution_count": 35,
   "metadata": {},
   "outputs": [
    {
     "data": {
      "text/plain": [
       "array([[-0.25912586],\n",
       "       [-0.05070239],\n",
       "       [ 0.19552189],\n",
       "       [ 0.15623856],\n",
       "       [ 0.05516443],\n",
       "       [ 0.17606647],\n",
       "       [ 0.10917059],\n",
       "       [-0.00701835],\n",
       "       [ 0.06589522],\n",
       "       [ 0.22629078]], dtype=float32)"
      ]
     },
     "execution_count": 35,
     "metadata": {},
     "output_type": "execute_result"
    }
   ],
   "source": [
    "example_batch = normed_train_data[:10]\n",
    "example_result = model.predict(example_batch)\n",
    "example_result"
   ]
  },
  {
   "cell_type": "code",
   "execution_count": 36,
   "metadata": {},
   "outputs": [],
   "source": [
    "\n",
    "\n",
    "early_history = model.fit(normed_train_data, train_labels, \n",
    "                    epochs=EPOCHS, validation_split = 0.2, verbose=0, \n",
    "                    callbacks=[early_stop])"
   ]
  },
  {
   "cell_type": "code",
   "execution_count": 37,
   "metadata": {},
   "outputs": [
    {
     "name": "stdout",
     "output_type": "stream",
     "text": [
      "199/199 - 0s - loss: 1.0998 - mean_absolute_error: 0.4672 - mean_squared_error: 1.0998\n",
      "Testing set Mean Abs Error:  0.47 Bugs\n"
     ]
    }
   ],
   "source": [
    "loss, mae, mse = model.evaluate(normed_test_data, test_labels, verbose=2)\n",
    "\n",
    "print(\"Testing set Mean Abs Error: {:5.2f} Bugs\".format(mae))"
   ]
  },
  {
   "cell_type": "code",
   "execution_count": 38,
   "metadata": {},
   "outputs": [
    {
     "data": {
      "image/png": "[encoded data removed]",
      "text/plain": [
       "<Figure size 432x288 with 1 Axes>"
      ]
     },
     "metadata": {
      "needs_background": "light"
     },
     "output_type": "display_data"
    }
   ],
   "source": [
    "test_predictions = model.predict(normed_test_data).flatten()\n",
    "\n",
    "a = plt.axes(aspect='equal')\n",
    "plt.scatter(test_labels, test_predictions)\n",
    "plt.xlabel('True Values [Bugs]')\n",
    "plt.ylabel('Predictions [Bugs]')\n",
    "lims = [0, 10]\n",
    "plt.xlim(lims)\n",
    "plt.ylim(lims)\n",
    "_ = plt.plot(lims, lims)"
   ]
  },
  {
   "cell_type": "code",
   "execution_count": 39,
   "metadata": {},
   "outputs": [
    {
     "data": {
      "image/png": "[encoded data removed]",
      "text/plain": [
       "<Figure size 432x288 with 1 Axes>"
      ]
     },
     "metadata": {
      "needs_background": "light"
     },
     "output_type": "display_data"
    }
   ],
   "source": [
    "error = test_predictions - test_labels\n",
    "plt.hist(error, bins = 25)\n",
    "plt.xlabel(\"Prediction Error [Bugs]\")\n",
    "_ = plt.ylabel(\"Count\")"
   ]
  }
 ],
 "metadata": {
  "kernelspec": {
   "display_name": "Python 3",
   "language": "python",
   "name": "python3"
  },
  "language_info": {
   "codemirror_mode": {
    "name": "ipython",
    "version": 3
   },
   "file_extension": ".py",
   "mimetype": "text/x-python",
   "name": "python",
   "nbconvert_exporter": "python",
   "pygments_lexer": "ipython3",
   "version": "3.8.0"
  }
 },
 "nbformat": 4,
 "nbformat_minor": 2
}
