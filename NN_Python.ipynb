{
 "cells": [
  {
   "cell_type": "markdown",
   "metadata": {},
   "source": [
    "Neural Networks with Python"
   ]
  },
  {
   "cell_type": "code",
   "execution_count": 1,
   "metadata": {},
   "outputs": [
    {
     "name": "stderr",
     "output_type": "stream",
     "text": [
      "Using TensorFlow backend.\n"
     ]
    }
   ],
   "source": [
    "import pandas as pd\n",
    "import numpy as np\n",
    "\n",
    "import sklearn\n",
    "\n",
    "import matplotlib.pyplot as plt\n",
    "import seaborn as sns\n",
    "%matplotlib inline\n",
    "\n",
    "from sklearn.pipeline import Pipeline\n",
    "from keras.wrappers.scikit_learn import KerasRegressor, KerasClassifier\n",
    "from sklearn.preprocessing import StandardScaler, QuantileTransformer, MinMaxScaler, RobustScaler\n",
    "\n",
    "from keras.models import Model\n",
    "from keras.optimizers import Adam\n",
    "from keras.layers import TimeDistributed, GlobalAveragePooling1D, Activation, Input, LSTM, GRU, Dense, Dropout, Flatten, Embedding, SpatialDropout1D, Bidirectional, CuDNNGRU\n",
    "from keras.layers.convolutional import Conv1D, MaxPooling1D, AveragePooling1D\n",
    "from keras.layers.normalization import BatchNormalization\n",
    "from keras.layers import Flatten, concatenate\n",
    "from keras.engine.topology import Layer\n",
    "from keras import initializers, regularizers, constraints, activations\n",
    "from keras.layers.recurrent import Recurrent\n",
    "from keras.engine import InputSpec\n",
    "from keras.callbacks import ModelCheckpoint, EarlyStopping, LearningRateScheduler, ReduceLROnPlateau, CSVLogger\n",
    "\n",
    "import tensorflow as tf\n",
    "from tensorflow import set_random_seed\n",
    "from keras import backend as K\n",
    "\n",
    "# This part required only for GPU\n",
    "config = tf.ConfigProto()\n",
    "config.gpu_options.allow_growth = True\n",
    "config.gpu_options.allocator_type = 'BFC'\n",
    "sess = tf.Session(config=config)\n",
    "K.set_session(sess)\n",
    "\n",
    "seed = 10293239\n",
    "\n",
    "from tensorflow import keras\n",
    "from tensorflow.keras import layers\n",
    "\n",
    "from math import sqrt"
   ]
  },
  {
   "cell_type": "code",
   "execution_count": 2,
   "metadata": {
    "scrolled": true
   },
   "outputs": [
    {
     "data": {
      "text/html": [
       "<div>\n",
       "<style scoped>\n",
       "    .dataframe tbody tr th:only-of-type {\n",
       "        vertical-align: middle;\n",
       "    }\n",
       "\n",
       "    .dataframe tbody tr th {\n",
       "        vertical-align: top;\n",
       "    }\n",
       "\n",
       "    .dataframe thead th {\n",
       "        text-align: right;\n",
       "    }\n",
       "</style>\n",
       "<table border=\"1\" class=\"dataframe\">\n",
       "  <thead>\n",
       "    <tr style=\"text-align: right;\">\n",
       "      <th></th>\n",
       "      <th>CBO</th>\n",
       "      <th>DIT</th>\n",
       "      <th>FanIn</th>\n",
       "      <th>FanOut</th>\n",
       "      <th>LCOM</th>\n",
       "      <th>NOC</th>\n",
       "      <th>RFC</th>\n",
       "      <th>WMC</th>\n",
       "      <th>LOC</th>\n",
       "      <th>Attributes</th>\n",
       "      <th>AttributesInherited</th>\n",
       "      <th>Methods</th>\n",
       "      <th>MethodsInherited</th>\n",
       "      <th>Bugs</th>\n",
       "    </tr>\n",
       "  </thead>\n",
       "  <tbody>\n",
       "    <tr>\n",
       "      <td>0</td>\n",
       "      <td>9</td>\n",
       "      <td>2</td>\n",
       "      <td>1</td>\n",
       "      <td>9</td>\n",
       "      <td>15</td>\n",
       "      <td>0</td>\n",
       "      <td>34</td>\n",
       "      <td>20</td>\n",
       "      <td>122</td>\n",
       "      <td>1</td>\n",
       "      <td>8</td>\n",
       "      <td>6</td>\n",
       "      <td>19</td>\n",
       "      <td>0</td>\n",
       "    </tr>\n",
       "    <tr>\n",
       "      <td>1</td>\n",
       "      <td>1</td>\n",
       "      <td>1</td>\n",
       "      <td>1</td>\n",
       "      <td>0</td>\n",
       "      <td>0</td>\n",
       "      <td>0</td>\n",
       "      <td>1</td>\n",
       "      <td>1</td>\n",
       "      <td>4</td>\n",
       "      <td>2</td>\n",
       "      <td>0</td>\n",
       "      <td>1</td>\n",
       "      <td>8</td>\n",
       "      <td>0</td>\n",
       "    </tr>\n",
       "    <tr>\n",
       "      <td>2</td>\n",
       "      <td>114</td>\n",
       "      <td>1</td>\n",
       "      <td>102</td>\n",
       "      <td>18</td>\n",
       "      <td>190</td>\n",
       "      <td>6</td>\n",
       "      <td>156</td>\n",
       "      <td>176</td>\n",
       "      <td>484</td>\n",
       "      <td>131</td>\n",
       "      <td>249</td>\n",
       "      <td>20</td>\n",
       "      <td>8</td>\n",
       "      <td>1</td>\n",
       "    </tr>\n",
       "    <tr>\n",
       "      <td>3</td>\n",
       "      <td>5</td>\n",
       "      <td>6</td>\n",
       "      <td>1</td>\n",
       "      <td>4</td>\n",
       "      <td>10</td>\n",
       "      <td>0</td>\n",
       "      <td>18</td>\n",
       "      <td>12</td>\n",
       "      <td>33</td>\n",
       "      <td>0</td>\n",
       "      <td>61</td>\n",
       "      <td>5</td>\n",
       "      <td>207</td>\n",
       "      <td>0</td>\n",
       "    </tr>\n",
       "  </tbody>\n",
       "</table>\n",
       "</div>"
      ],
      "text/plain": [
       "   CBO  DIT  FanIn   FanOut   LCOM  NOC  RFC  WMC  LOC  Attributes   \\\n",
       "0    9    2       1        9    15    0   34   20  122            1   \n",
       "1    1    1       1        0     0    0    1    1    4            2   \n",
       "2  114    1     102       18   190    6  156  176  484          131   \n",
       "3    5    6       1        4    10    0   18   12   33            0   \n",
       "\n",
       "   AttributesInherited   Methods   MethodsInherited   Bugs   \n",
       "0                     8         6                 19      0  \n",
       "1                     0         1                  8      0  \n",
       "2                   249        20                  8      1  \n",
       "3                    61         5                207      0  "
      ]
     },
     "execution_count": 2,
     "metadata": {},
     "output_type": "execute_result"
    }
   ],
   "source": [
    "bugs = pd.read_csv('bugs.csv', sep=';', index_col=None)\n",
    "bugs.head(4)"
   ]
  },
  {
   "cell_type": "code",
   "execution_count": 3,
   "metadata": {},
   "outputs": [
    {
     "data": {
      "text/html": [
       "<div>\n",
       "<style scoped>\n",
       "    .dataframe tbody tr th:only-of-type {\n",
       "        vertical-align: middle;\n",
       "    }\n",
       "\n",
       "    .dataframe tbody tr th {\n",
       "        vertical-align: top;\n",
       "    }\n",
       "\n",
       "    .dataframe thead th {\n",
       "        text-align: right;\n",
       "    }\n",
       "</style>\n",
       "<table border=\"1\" class=\"dataframe\">\n",
       "  <thead>\n",
       "    <tr style=\"text-align: right;\">\n",
       "      <th></th>\n",
       "      <th>CBO</th>\n",
       "      <th>DIT</th>\n",
       "      <th>FanOut</th>\n",
       "      <th>LCOM</th>\n",
       "      <th>NOC</th>\n",
       "      <th>LOC</th>\n",
       "      <th>Attributes</th>\n",
       "      <th>AttributesInherited</th>\n",
       "      <th>MethodsInherited</th>\n",
       "      <th>Bugs</th>\n",
       "    </tr>\n",
       "  </thead>\n",
       "  <tbody>\n",
       "    <tr>\n",
       "      <td>0</td>\n",
       "      <td>9</td>\n",
       "      <td>2</td>\n",
       "      <td>9</td>\n",
       "      <td>15</td>\n",
       "      <td>0</td>\n",
       "      <td>122</td>\n",
       "      <td>1</td>\n",
       "      <td>8</td>\n",
       "      <td>19</td>\n",
       "      <td>0</td>\n",
       "    </tr>\n",
       "    <tr>\n",
       "      <td>1</td>\n",
       "      <td>1</td>\n",
       "      <td>1</td>\n",
       "      <td>0</td>\n",
       "      <td>0</td>\n",
       "      <td>0</td>\n",
       "      <td>4</td>\n",
       "      <td>2</td>\n",
       "      <td>0</td>\n",
       "      <td>8</td>\n",
       "      <td>0</td>\n",
       "    </tr>\n",
       "    <tr>\n",
       "      <td>2</td>\n",
       "      <td>114</td>\n",
       "      <td>1</td>\n",
       "      <td>18</td>\n",
       "      <td>190</td>\n",
       "      <td>6</td>\n",
       "      <td>484</td>\n",
       "      <td>131</td>\n",
       "      <td>249</td>\n",
       "      <td>8</td>\n",
       "      <td>1</td>\n",
       "    </tr>\n",
       "    <tr>\n",
       "      <td>3</td>\n",
       "      <td>5</td>\n",
       "      <td>6</td>\n",
       "      <td>4</td>\n",
       "      <td>10</td>\n",
       "      <td>0</td>\n",
       "      <td>33</td>\n",
       "      <td>0</td>\n",
       "      <td>61</td>\n",
       "      <td>207</td>\n",
       "      <td>0</td>\n",
       "    </tr>\n",
       "    <tr>\n",
       "      <td>4</td>\n",
       "      <td>23</td>\n",
       "      <td>2</td>\n",
       "      <td>22</td>\n",
       "      <td>820</td>\n",
       "      <td>0</td>\n",
       "      <td>673</td>\n",
       "      <td>7</td>\n",
       "      <td>416</td>\n",
       "      <td>8</td>\n",
       "      <td>0</td>\n",
       "    </tr>\n",
       "    <tr>\n",
       "      <td>...</td>\n",
       "      <td>...</td>\n",
       "      <td>...</td>\n",
       "      <td>...</td>\n",
       "      <td>...</td>\n",
       "      <td>...</td>\n",
       "      <td>...</td>\n",
       "      <td>...</td>\n",
       "      <td>...</td>\n",
       "      <td>...</td>\n",
       "      <td>...</td>\n",
       "    </tr>\n",
       "    <tr>\n",
       "      <td>992</td>\n",
       "      <td>0</td>\n",
       "      <td>1</td>\n",
       "      <td>0</td>\n",
       "      <td>1</td>\n",
       "      <td>2</td>\n",
       "      <td>3</td>\n",
       "      <td>3</td>\n",
       "      <td>0</td>\n",
       "      <td>8</td>\n",
       "      <td>0</td>\n",
       "    </tr>\n",
       "    <tr>\n",
       "      <td>993</td>\n",
       "      <td>9</td>\n",
       "      <td>6</td>\n",
       "      <td>7</td>\n",
       "      <td>15</td>\n",
       "      <td>1</td>\n",
       "      <td>48</td>\n",
       "      <td>3</td>\n",
       "      <td>386</td>\n",
       "      <td>95</td>\n",
       "      <td>0</td>\n",
       "    </tr>\n",
       "    <tr>\n",
       "      <td>994</td>\n",
       "      <td>35</td>\n",
       "      <td>3</td>\n",
       "      <td>10</td>\n",
       "      <td>153</td>\n",
       "      <td>9</td>\n",
       "      <td>306</td>\n",
       "      <td>11</td>\n",
       "      <td>52</td>\n",
       "      <td>27</td>\n",
       "      <td>1</td>\n",
       "    </tr>\n",
       "    <tr>\n",
       "      <td>995</td>\n",
       "      <td>7</td>\n",
       "      <td>2</td>\n",
       "      <td>7</td>\n",
       "      <td>190</td>\n",
       "      <td>0</td>\n",
       "      <td>87</td>\n",
       "      <td>2</td>\n",
       "      <td>6</td>\n",
       "      <td>30</td>\n",
       "      <td>0</td>\n",
       "    </tr>\n",
       "    <tr>\n",
       "      <td>996</td>\n",
       "      <td>8</td>\n",
       "      <td>2</td>\n",
       "      <td>4</td>\n",
       "      <td>780</td>\n",
       "      <td>0</td>\n",
       "      <td>347</td>\n",
       "      <td>49</td>\n",
       "      <td>20</td>\n",
       "      <td>25</td>\n",
       "      <td>1</td>\n",
       "    </tr>\n",
       "  </tbody>\n",
       "</table>\n",
       "<p>997 rows × 10 columns</p>\n",
       "</div>"
      ],
      "text/plain": [
       "     CBO  DIT  FanOut   LCOM  NOC  LOC  Attributes   AttributesInherited   \\\n",
       "0      9    2        9    15    0  122            1                     8   \n",
       "1      1    1        0     0    0    4            2                     0   \n",
       "2    114    1       18   190    6  484          131                   249   \n",
       "3      5    6        4    10    0   33            0                    61   \n",
       "4     23    2       22   820    0  673            7                   416   \n",
       "..   ...  ...      ...   ...  ...  ...          ...                   ...   \n",
       "992    0    1        0     1    2    3            3                     0   \n",
       "993    9    6        7    15    1   48            3                   386   \n",
       "994   35    3       10   153    9  306           11                    52   \n",
       "995    7    2        7   190    0   87            2                     6   \n",
       "996    8    2        4   780    0  347           49                    20   \n",
       "\n",
       "     MethodsInherited   Bugs   \n",
       "0                   19      0  \n",
       "1                    8      0  \n",
       "2                    8      1  \n",
       "3                  207      0  \n",
       "4                    8      0  \n",
       "..                 ...    ...  \n",
       "992                  8      0  \n",
       "993                 95      0  \n",
       "994                 27      1  \n",
       "995                 30      0  \n",
       "996                 25      1  \n",
       "\n",
       "[997 rows x 10 columns]"
      ]
     },
     "execution_count": 3,
     "metadata": {},
     "output_type": "execute_result"
    }
   ],
   "source": [
    "# we will make a copy of the main data\n",
    "bugs_small = bugs[[\"CBO\", \"DIT\", \"FanOut \", \"LCOM\", \"NOC\", \"LOC\", \"Attributes \", \"AttributesInherited \", \"MethodsInherited \", \"Bugs \"]]\n",
    "bugs_small"
   ]
  },
  {
   "cell_type": "code",
   "execution_count": 4,
   "metadata": {},
   "outputs": [
    {
     "data": {
      "text/plain": [
       "CBO                     0\n",
       "DIT                     0\n",
       "FanOut                  0\n",
       "LCOM                    0\n",
       "NOC                     0\n",
       "LOC                     0\n",
       "Attributes              0\n",
       "AttributesInherited     0\n",
       "MethodsInherited        0\n",
       "Bugs                    0\n",
       "dtype: int64"
      ]
     },
     "execution_count": 4,
     "metadata": {},
     "output_type": "execute_result"
    }
   ],
   "source": [
    "bugs_small.isna().sum()"
   ]
  },
  {
   "cell_type": "code",
   "execution_count": 5,
   "metadata": {},
   "outputs": [],
   "source": [
    "y = bugs_small['Bugs ']\n",
    "X = bugs_small.drop(['Bugs '], axis=1, inplace=False)"
   ]
  },
  {
   "cell_type": "code",
   "execution_count": 6,
   "metadata": {},
   "outputs": [],
   "source": [
    "def get_regression_model(n_features=None):\n",
    "  model = keras.Sequential([\n",
    "    layers.Dense(64, activation='relu', input_shape=[n_features]),\n",
    "    layers.Dense(64, activation='relu'),\n",
    "    layers.Dense(1)\n",
    "  ])\n",
    "\n",
    "  optimizer = tf.keras.optimizers.RMSprop(0.001)\n",
    "\n",
    "  model.compile(loss='mse',\n",
    "                optimizer=optimizer,\n",
    "                metrics=['mae', 'mse'])\n",
    "  return model"
   ]
  },
  {
   "cell_type": "code",
   "execution_count": 7,
   "metadata": {},
   "outputs": [],
   "source": [
    "#For regression\n",
    "np.random.seed(seed)\n",
    "set_random_seed(seed)\n",
    "\n",
    "callbacks_list = [\n",
    "    EarlyStopping(\n",
    "        monitor='val_loss',\n",
    "        patience=10)\n",
    "]\n",
    "\n",
    "pipeline = []\n",
    "pipeline.append(('standard', StandardScaler()))"
   ]
  },
  {
   "cell_type": "code",
   "execution_count": 8,
   "metadata": {},
   "outputs": [],
   "source": [
    "#For regression\n",
    "EPOCHS = 1000\n",
    "pipeline.append(('regressor', KerasRegressor(build_fn=get_regression_model,  \n",
    "                                        epochs=EPOCHS,\n",
    "                                        batch_size=128, \n",
    "                                        verbose=2, \n",
    "                                        callbacks=callbacks_list,\n",
    "                                        n_features=X.shape[1]))) "
   ]
  },
  {
   "cell_type": "code",
   "execution_count": 9,
   "metadata": {},
   "outputs": [],
   "source": [
    "model = Pipeline(pipeline)"
   ]
  },
  {
   "cell_type": "code",
   "execution_count": 10,
   "metadata": {},
   "outputs": [],
   "source": [
    "from sklearn.model_selection import train_test_split\n",
    "\n",
    "X_train, X_test, y_train, y_test = train_test_split(\n",
    "    X, y, test_size=0.33, random_state=seed, stratify=y)"
   ]
  },
  {
   "cell_type": "code",
   "execution_count": 11,
   "metadata": {},
   "outputs": [
    {
     "name": "stdout",
     "output_type": "stream",
     "text": [
      "WARNING:tensorflow:From D:\\ProgramFiles\\Anaconda\\lib\\site-packages\\tensorflow_core\\python\\ops\\resource_variable_ops.py:1630: calling BaseResourceVariable.__init__ (from tensorflow.python.ops.resource_variable_ops) with constraint is deprecated and will be removed in a future version.\n",
      "Instructions for updating:\n",
      "If using Keras pass *_constraint arguments to layers.\n",
      "Train on 667 samples, validate on 330 samples\n",
      "Epoch 1/1000\n",
      "667/667 - 0s - loss: 1.1850 - mean_absolute_error: 0.4915 - mean_squared_error: 1.1850 - val_loss: 5195.2504 - val_mean_absolute_error: 21.2039 - val_mean_squared_error: 5195.2505\n",
      "Epoch 2/1000\n",
      "667/667 - 0s - loss: 0.8461 - mean_absolute_error: 0.4335 - mean_squared_error: 0.8461 - val_loss: 17401.9664 - val_mean_absolute_error: 32.9716 - val_mean_squared_error: 17401.9668\n",
      "Epoch 3/1000\n",
      "667/667 - 0s - loss: 0.7604 - mean_absolute_error: 0.4149 - mean_squared_error: 0.7604 - val_loss: 33150.4439 - val_mean_absolute_error: 49.9120 - val_mean_squared_error: 33150.4414\n",
      "Epoch 4/1000\n",
      "667/667 - 0s - loss: 0.7105 - mean_absolute_error: 0.4012 - mean_squared_error: 0.7105 - val_loss: 37764.7386 - val_mean_absolute_error: 57.1804 - val_mean_squared_error: 37764.7383\n",
      "Epoch 5/1000\n",
      "667/667 - 0s - loss: 0.6896 - mean_absolute_error: 0.4113 - mean_squared_error: 0.6896 - val_loss: 40967.9779 - val_mean_absolute_error: 61.3195 - val_mean_squared_error: 40967.9805\n",
      "Epoch 6/1000\n",
      "667/667 - 0s - loss: 0.6797 - mean_absolute_error: 0.3955 - mean_squared_error: 0.6797 - val_loss: 39886.2372 - val_mean_absolute_error: 64.1172 - val_mean_squared_error: 39886.2383\n",
      "Epoch 7/1000\n",
      "667/667 - 0s - loss: 0.6610 - mean_absolute_error: 0.3993 - mean_squared_error: 0.6610 - val_loss: 45959.8151 - val_mean_absolute_error: 66.9820 - val_mean_squared_error: 45959.8164\n",
      "Epoch 8/1000\n",
      "667/667 - 0s - loss: 0.6502 - mean_absolute_error: 0.3957 - mean_squared_error: 0.6502 - val_loss: 19855.6518 - val_mean_absolute_error: 43.1761 - val_mean_squared_error: 19855.6523\n",
      "Epoch 9/1000\n",
      "667/667 - 0s - loss: 0.6480 - mean_absolute_error: 0.3814 - mean_squared_error: 0.6480 - val_loss: 30729.6461 - val_mean_absolute_error: 56.8368 - val_mean_squared_error: 30729.6445\n",
      "Epoch 10/1000\n",
      "667/667 - 0s - loss: 0.6314 - mean_absolute_error: 0.3947 - mean_squared_error: 0.6314 - val_loss: 31988.0159 - val_mean_absolute_error: 57.5216 - val_mean_squared_error: 31988.0176\n",
      "Epoch 11/1000\n",
      "667/667 - 0s - loss: 0.6263 - mean_absolute_error: 0.3842 - mean_squared_error: 0.6263 - val_loss: 22191.6377 - val_mean_absolute_error: 48.2574 - val_mean_squared_error: 22191.6387\n"
     ]
    },
    {
     "data": {
      "text/plain": [
       "Pipeline(memory=None,\n",
       "         steps=[('standard',\n",
       "                 StandardScaler(copy=True, with_mean=True, with_std=True)),\n",
       "                ('regressor',\n",
       "                 <keras.wrappers.scikit_learn.KerasRegressor object at 0x000001C08D81DC88>)],\n",
       "         verbose=False)"
      ]
     },
     "execution_count": 11,
     "metadata": {},
     "output_type": "execute_result"
    }
   ],
   "source": [
    "model.set_params(regressor__validation_data=(X_test, y_test)).fit(X_train, y_train)\n",
    "#odel.fit(X_train, y_train)\n",
    "\n",
    "#Pipeline.fit(X_train, y_train, regressor__validation_data=(X_test, y_test))"
   ]
  },
  {
   "cell_type": "code",
   "execution_count": 20,
   "metadata": {},
   "outputs": [
    {
     "name": "stdout",
     "output_type": "stream",
     "text": [
      "100/100 - 0s\n"
     ]
    },
    {
     "data": {
      "text/plain": [
       "array([-0.03232694,  0.0586139 , -0.01177015,  0.07142334, -0.09979989,\n",
       "       -0.06143851,  0.3912144 ,  0.08236326,  0.47730842,  0.11443146,\n",
       "       -0.04447865, -0.08235677,  0.9878638 ,  0.0634644 ,  0.41754848,\n",
       "        0.45564038,  0.2662414 ,  0.6307063 ,  0.00557354, -0.05698445,\n",
       "        0.74651814,  0.09756816,  0.04869653, -0.03291833,  0.2708986 ,\n",
       "        0.16149215, -0.06836004, -0.04292338, -0.09792123,  1.5559549 ,\n",
       "       -0.01320199, -0.03807919,  0.11092796,  0.06237192,  0.02242143,\n",
       "        1.2659161 ,  0.27571854,  0.25702846, -0.01837474, -0.05186637,\n",
       "        0.02279261,  0.07089013,  0.8157331 , -0.05717012,  0.08364462,\n",
       "       -0.06212483,  0.20782934, -0.00577248,  1.080954  ,  0.32802728,\n",
       "        0.09624097,  0.02895645,  0.2897813 ,  0.09218065, -0.03507134,\n",
       "        0.047507  ,  0.36656967,  0.05611122, -0.03371606,  0.5266205 ,\n",
       "        0.15095459, -0.0414779 ,  0.03596243,  0.3314016 ,  0.88230556,\n",
       "        0.08883774,  0.08227734,  0.8456065 ,  0.07034955,  0.01748399,\n",
       "        0.02177319, -0.05806326,  0.56157714, -0.06078508,  0.7071865 ,\n",
       "        0.02292629,  0.12279081,  3.5074937 ,  0.04348128, -0.00569562,\n",
       "        0.17101204, -0.09521144,  0.04306861,  1.1594617 ,  0.2063693 ,\n",
       "        0.16779119,  1.8357668 , -0.04887762, -0.10353329,  0.34465173,\n",
       "        0.14993948,  0.20812443, -0.06334908,  0.27321142,  0.7636066 ,\n",
       "       -0.00685758, -0.10438187,  0.02787367, -0.03312512,  0.04885704],\n",
       "      dtype=float32)"
      ]
     },
     "execution_count": 20,
     "metadata": {},
     "output_type": "execute_result"
    }
   ],
   "source": [
    "example_batch = X_train[:100]\n",
    "example_result = model.predict(example_batch)\n",
    "example_result"
   ]
  },
  {
   "cell_type": "code",
   "execution_count": 21,
   "metadata": {},
   "outputs": [
    {
     "name": "stdout",
     "output_type": "stream",
     "text": [
      "330/330 - 0s\n"
     ]
    }
   ],
   "source": [
    "y_pred = model.predict(X_test)"
   ]
  },
  {
   "cell_type": "code",
   "execution_count": 22,
   "metadata": {},
   "outputs": [
    {
     "data": {
      "text/plain": [
       "'Variance = 0.442, Max Error = 7.111, Mean Absolute Error = 0.347, Mean Squared Error = 0.653, Median Absolute Error = 0.090, R2 = 0.420, RMSE = 0.808'"
      ]
     },
     "execution_count": 22,
     "metadata": {},
     "output_type": "execute_result"
    }
   ],
   "source": [
    "#For regression\n",
    "from sklearn.metrics import explained_variance_score, max_error, mean_absolute_error, mean_squared_error, mean_squared_log_error, median_absolute_error, r2_score\n",
    "\n",
    "variance = explained_variance_score(y_test, y_pred)\n",
    "max_error = max_error(y_test, y_pred)\n",
    "mean_absolute_error = mean_absolute_error(y_test, y_pred)\n",
    "mean_squared_error = mean_squared_error(y_test, y_pred)\n",
    "#mean_squared_log_error = mean_squared_log_error(y_test, y_pred)\n",
    "median_absolute_error = median_absolute_error(y_test, y_pred)\n",
    "r2_score = r2_score(y_test, y_pred)\n",
    "\n",
    "\"Variance = {:.3f}, Max Error = {:.3f}, Mean Absolute Error = {:.3f}, Mean Squared Error = {:.3f}, Median Absolute Error = {:.3f}, R2 = {:.3f}, RMSE = {:.3f}\".format(variance, max_error, mean_absolute_error, mean_squared_error, median_absolute_error, r2_score, sqrt(mean_squared_error))"
   ]
  },
  {
   "cell_type": "code",
   "execution_count": 23,
   "metadata": {},
   "outputs": [
    {
     "data": {
      "image/png": "[encoded data removed]",
      "text/plain": [
       "<Figure size 720x576 with 1 Axes>"
      ]
     },
     "metadata": {
      "needs_background": "light"
     },
     "output_type": "display_data"
    }
   ],
   "source": [
    "#For regression\n",
    "fig_size = plt.rcParams[\"figure.figsize\"]\n",
    "fig_size[0] = 10\n",
    "fig_size[1] = 8\n",
    "plt.rcParams[\"figure.figsize\"] = fig_size\n",
    "\n",
    "a = plt.axes(aspect='equal')\n",
    "plt.scatter(y_test, y_pred)\n",
    "plt.xlabel('Real number of bugs')\n",
    "plt.ylabel('Predicted number of bugs')\n",
    "lims = [0, 10]\n",
    "plt.xlim(lims)\n",
    "plt.ylim(lims)\n",
    "_ = plt.plot(lims, lims)"
   ]
  },
  {
   "cell_type": "code",
   "execution_count": 17,
   "metadata": {},
   "outputs": [
    {
     "data": {
      "image/png": "[encoded data removed]",
      "text/plain": [
       "<Figure size 720x576 with 1 Axes>"
      ]
     },
     "metadata": {
      "needs_background": "light"
     },
     "output_type": "display_data"
    }
   ],
   "source": [
    "error = y_pred - y_test\n",
    "plt.hist(error, bins = 25)\n",
    "plt.xlabel(\"Prediction Error [Bugs]\")\n",
    "_ = plt.ylabel(\"Count\")"
   ]
  }
 ],
 "metadata": {
  "kernelspec": {
   "display_name": "Python 3",
   "language": "python",
   "name": "python3"
  },
  "language_info": {
   "codemirror_mode": {
    "name": "ipython",
    "version": 3
   },
   "file_extension": ".py",
   "mimetype": "text/x-python",
   "name": "python",
   "nbconvert_exporter": "python",
   "pygments_lexer": "ipython3",
   "version": "3.7.4"
  }
 },
 "nbformat": 4,
 "nbformat_minor": 2
}
